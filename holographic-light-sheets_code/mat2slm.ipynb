{
 "cells": [
  {
   "cell_type": "markdown",
   "metadata": {},
   "source": [
    "Initialize SLM"
   ]
  },
  {
   "cell_type": "code",
   "execution_count": null,
   "metadata": {},
   "outputs": [],
   "source": [
    "from slmsuite.hardware.slms.santec import Santec, SLM\n",
    "\n",
    "try:\n",
    "    slm = Santec(display_number=1, wav_um=.532)\n",
    "    slm.load_vendor_phase_correction(\"240521134132A_10bit.csv\")\n",
    "except Exception as e:\n",
    "    # Fallback to virtual hardware.\n",
    "    print(\"Hardware failed to load: {}\".format(e))\n",
    "    slm = SLM(width=1920, height=1200, dx_um=8, dy_um=8, wav_um=.532)"
   ]
  },
  {
   "cell_type": "markdown",
   "metadata": {},
   "source": [
    "Take a .mat file representing a phase modulation array and display it on the SLM"
   ]
  },
  {
   "cell_type": "code",
   "execution_count": null,
   "metadata": {},
   "outputs": [],
   "source": [
    "import scipy.io as sio\n",
    "import numpy as np\n",
    "\n",
    "vars = sio.loadmat(\"Variables/thread_2mm5_pr.mat\")\n",
    "phase = vars[\"macroblock_phase\"]\n",
    "\n",
    "phase_resized = np.zeros(slm.shape)\n",
    "# Compute the starting indices\n",
    "start_y = (phase_resized.shape[0] - phase.shape[0]) // 2\n",
    "start_x = (phase_resized.shape[1] - phase.shape[1]) // 2\n",
    "\n",
    "# Place the small array in the middle of the large array\n",
    "phase_resized[start_y:start_y+phase.shape[0], start_x:start_x+phase.shape[1]] = phase\n",
    "\n",
    "slm.write(phase_resized)"
   ]
  },
  {
   "cell_type": "code",
   "execution_count": 3,
   "metadata": {},
   "outputs": [],
   "source": [
    "slm.close()"
   ]
  }
 ],
 "metadata": {
  "kernelspec": {
   "display_name": ".venv",
   "language": "python",
   "name": "python3"
  },
  "language_info": {
   "codemirror_mode": {
    "name": "ipython",
    "version": 3
   },
   "file_extension": ".py",
   "mimetype": "text/x-python",
   "name": "python",
   "nbconvert_exporter": "python",
   "pygments_lexer": "ipython3",
   "version": "3.11.9"
  }
 },
 "nbformat": 4,
 "nbformat_minor": 2
}
